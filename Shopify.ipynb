{
 "cells": [
  {
   "cell_type": "code",
   "execution_count": 25,
   "metadata": {},
   "outputs": [
    {
     "name": "stderr",
     "output_type": "stream",
     "text": [
      "Installing package into 'C:/Users/Shreya/R/win-library/3.6'\n",
      "(as 'lib' is unspecified)\n",
      "also installing the dependencies 'cachem', 'memoise', 'Rcpp', 'plogr', 'gsubfn', 'proto', 'RSQLite', 'chron'\n",
      "\n"
     ]
    },
    {
     "name": "stdout",
     "output_type": "stream",
     "text": [
      "\n",
      "  There are binary versions available but the source versions are later:\n",
      "        binary  source needs_compilation\n",
      "cachem   1.0.4   1.0.6              TRUE\n",
      "memoise  2.0.0   2.0.1             FALSE\n",
      "Rcpp     1.0.6 1.0.8.3              TRUE\n",
      "RSQLite  2.2.7  2.2.14              TRUE\n",
      "\n",
      "  Binaries will be installed\n",
      "package 'cachem' successfully unpacked and MD5 sums checked\n",
      "package 'Rcpp' successfully unpacked and MD5 sums checked\n",
      "package 'plogr' successfully unpacked and MD5 sums checked\n",
      "package 'gsubfn' successfully unpacked and MD5 sums checked\n",
      "package 'proto' successfully unpacked and MD5 sums checked\n",
      "package 'RSQLite' successfully unpacked and MD5 sums checked\n",
      "package 'chron' successfully unpacked and MD5 sums checked\n",
      "package 'sqldf' successfully unpacked and MD5 sums checked\n",
      "\n",
      "The downloaded binary packages are in\n",
      "\tC:\\Users\\Shreya\\AppData\\Local\\Temp\\Rtmpa0MBXp\\downloaded_packages\n"
     ]
    },
    {
     "name": "stderr",
     "output_type": "stream",
     "text": [
      "installing the source package 'memoise'\n",
      "\n"
     ]
    }
   ],
   "source": [
    "library(tidyverse)\n",
    "library(readxl)\n",
    "#library(sqldf)\n",
    "install.packages(\"sqldf\")"
   ]
  },
  {
   "cell_type": "markdown",
   "metadata": {},
   "source": [
    "**Problem 1:** On Shopify, we have exactly 100 sneaker shops, and each of these shops sells only one model of shoe. We want to do some analysis of the average order value (AOV). When we look at orders data over a 30 day window, we naively calculate an AOV of $3145.13. Given that we know these shops are selling sneakers, a relatively affordable item, something seems wrong with our analysis. \n",
    "\n",
    "1. Think about what could be going wrong with our calculation. Think about a better way to evaluate this data. "
   ]
  },
  {
   "cell_type": "code",
   "execution_count": 26,
   "metadata": {},
   "outputs": [
    {
     "data": {
      "text/html": [
       "<table>\n",
       "<thead><tr><th scope=col>order_id</th><th scope=col>shop_id</th><th scope=col>user_id</th><th scope=col>order_amount</th><th scope=col>total_items</th><th scope=col>payment_method</th><th scope=col>created_at</th></tr></thead>\n",
       "<tbody>\n",
       "\t<tr><td>1                  </td><td>53                 </td><td>746                </td><td>224                </td><td>2                  </td><td>cash               </td><td>2017-03-13 12:36:56</td></tr>\n",
       "\t<tr><td>2                  </td><td>92                 </td><td>925                </td><td> 90                </td><td>1                  </td><td>cash               </td><td>2017-03-03 17:38:51</td></tr>\n",
       "\t<tr><td>3                  </td><td>44                 </td><td>861                </td><td>144                </td><td>1                  </td><td>cash               </td><td>2017-03-14 04:23:55</td></tr>\n",
       "\t<tr><td>4                  </td><td>18                 </td><td>935                </td><td>156                </td><td>1                  </td><td>credit_card        </td><td>2017-03-26 12:43:36</td></tr>\n",
       "\t<tr><td>5                  </td><td>18                 </td><td>883                </td><td>156                </td><td>1                  </td><td>credit_card        </td><td>2017-03-01 04:35:10</td></tr>\n",
       "\t<tr><td>6                  </td><td>58                 </td><td>882                </td><td>138                </td><td>1                  </td><td>credit_card        </td><td>2017-03-14 15:25:00</td></tr>\n",
       "</tbody>\n",
       "</table>\n"
      ],
      "text/latex": [
       "\\begin{tabular}{r|lllllll}\n",
       " order\\_id & shop\\_id & user\\_id & order\\_amount & total\\_items & payment\\_method & created\\_at\\\\\n",
       "\\hline\n",
       "\t 1                   & 53                  & 746                 & 224                 & 2                   & cash                & 2017-03-13 12:36:56\\\\\n",
       "\t 2                   & 92                  & 925                 &  90                 & 1                   & cash                & 2017-03-03 17:38:51\\\\\n",
       "\t 3                   & 44                  & 861                 & 144                 & 1                   & cash                & 2017-03-14 04:23:55\\\\\n",
       "\t 4                   & 18                  & 935                 & 156                 & 1                   & credit\\_card       & 2017-03-26 12:43:36\\\\\n",
       "\t 5                   & 18                  & 883                 & 156                 & 1                   & credit\\_card       & 2017-03-01 04:35:10\\\\\n",
       "\t 6                   & 58                  & 882                 & 138                 & 1                   & credit\\_card       & 2017-03-14 15:25:00\\\\\n",
       "\\end{tabular}\n"
      ],
      "text/markdown": [
       "\n",
       "| order_id | shop_id | user_id | order_amount | total_items | payment_method | created_at |\n",
       "|---|---|---|---|---|---|---|\n",
       "| 1                   | 53                  | 746                 | 224                 | 2                   | cash                | 2017-03-13 12:36:56 |\n",
       "| 2                   | 92                  | 925                 |  90                 | 1                   | cash                | 2017-03-03 17:38:51 |\n",
       "| 3                   | 44                  | 861                 | 144                 | 1                   | cash                | 2017-03-14 04:23:55 |\n",
       "| 4                   | 18                  | 935                 | 156                 | 1                   | credit_card         | 2017-03-26 12:43:36 |\n",
       "| 5                   | 18                  | 883                 | 156                 | 1                   | credit_card         | 2017-03-01 04:35:10 |\n",
       "| 6                   | 58                  | 882                 | 138                 | 1                   | credit_card         | 2017-03-14 15:25:00 |\n",
       "\n"
      ],
      "text/plain": [
       "  order_id shop_id user_id order_amount total_items payment_method\n",
       "1 1        53      746     224          2           cash          \n",
       "2 2        92      925      90          1           cash          \n",
       "3 3        44      861     144          1           cash          \n",
       "4 4        18      935     156          1           credit_card   \n",
       "5 5        18      883     156          1           credit_card   \n",
       "6 6        58      882     138          1           credit_card   \n",
       "  created_at         \n",
       "1 2017-03-13 12:36:56\n",
       "2 2017-03-03 17:38:51\n",
       "3 2017-03-14 04:23:55\n",
       "4 2017-03-26 12:43:36\n",
       "5 2017-03-01 04:35:10\n",
       "6 2017-03-14 15:25:00"
      ]
     },
     "metadata": {},
     "output_type": "display_data"
    },
    {
     "data": {
      "text/html": [
       "3145.128"
      ],
      "text/latex": [
       "3145.128"
      ],
      "text/markdown": [
       "3145.128"
      ],
      "text/plain": [
       "[1] 3145.128"
      ]
     },
     "metadata": {},
     "output_type": "display_data"
    },
    {
     "data": {
      "text/plain": [
       "   Min. 1st Qu.  Median    Mean 3rd Qu.    Max. \n",
       "     90     163     284    3145     390  704000 "
      ]
     },
     "metadata": {},
     "output_type": "display_data"
    },
    {
     "data": {
      "text/plain": [
       "\n",
       "   1    2    3    4    5    6    8 2000 \n",
       "1830 1832  941  293   77    9    1   17 "
      ]
     },
     "metadata": {},
     "output_type": "display_data"
    },
    {
     "data": {
      "image/png": "[encoded data removed]",
      "text/plain": [
       "Plot with title \"Histogram of sneaker$order_amount\""
      ]
     },
     "metadata": {},
     "output_type": "display_data"
    }
   ],
   "source": [
    "sneaker <- read_xlsx(\"2019 Winter Data Science Intern Challenge Data Set.xlsx\")\n",
    "head(sneaker)\n",
    "\n",
    "mean(sneaker$order_amount)\n",
    "\n",
    "summary(sneaker$order_amount)\n",
    "hist(sneaker$order_amount)\n",
    "table(sneaker$total_items)"
   ]
  },
  {
   "cell_type": "markdown",
   "metadata": {},
   "source": [
    "The total number items in the order differs for each order, so we need to fix that to make sense of the AOV."
   ]
  },
  {
   "cell_type": "markdown",
   "metadata": {},
   "source": [
    "2. What metric would you report for this dataset?"
   ]
  },
  {
   "cell_type": "code",
   "execution_count": 19,
   "metadata": {},
   "outputs": [
    {
     "data": {
      "text/plain": [
       "   Min. 1st Qu.  Median    Mean 3rd Qu.    Max. \n",
       "   90.0   133.0   153.0   387.7   169.0 25725.0 "
      ]
     },
     "metadata": {},
     "output_type": "display_data"
    },
    {
     "data": {
      "text/plain": [
       "\n",
       "   90    94   101   111   112   114   116   117   118   122   127   128   129 \n",
       "   42    55    42    40   124    59    58    77   118    50    52    93   142 \n",
       "  130   131   132   133   134   136   138   140   142   144   145   146   147 \n",
       "  150    97    46   151    86   105    59    55   197    39    92    89    53 \n",
       "  148   149   153   154   155   156   158   160   161   162   163   164   165 \n",
       "  101    52   256    54    42   197    94   206   101    48   122   161    58 \n",
       "  166   168   169   171   172   173   176   177   178   181   184   187   190 \n",
       "   43    39    54    48    35    99   152   148   109   112    49   105    35 \n",
       "  193   195   196   201   352 25725 \n",
       "   44    54    61    53    51    46 "
      ]
     },
     "metadata": {},
     "output_type": "display_data"
    },
    {
     "data": {
      "image/png": "[encoded data removed]",
      "text/plain": [
       "Plot with title \"Histogram of sneaker$order_amount_transf\""
      ]
     },
     "metadata": {},
     "output_type": "display_data"
    }
   ],
   "source": [
    "#transforming order amount\n",
    "sneaker <- sneaker %>% mutate(order_amount_transf = order_amount/total_items)\n",
    "summary(sneaker$order_amount_transf)\n",
    "table(sneaker$order_amount_transf)\n",
    "hist(sneaker$order_amount_transf)"
   ]
  },
  {
   "cell_type": "markdown",
   "metadata": {},
   "source": [
    "- We find the average of each item in an order by dividing total amount by the number of items.\n",
    "- Once we do that we could average the transformed order amount values, but an issue with this approach is that there are 46 outliers with anomalously high values while the others are all centered around the same values. \n",
    "- In this case, we could look at the median of the transformed amounts since it's not influenced by those outliers. "
   ]
  },
  {
   "cell_type": "markdown",
   "metadata": {},
   "source": [
    "3. What is its value?"
   ]
  },
  {
   "cell_type": "code",
   "execution_count": 21,
   "metadata": {},
   "outputs": [
    {
     "data": {
      "text/html": [
       "153"
      ],
      "text/latex": [
       "153"
      ],
      "text/markdown": [
       "153"
      ],
      "text/plain": [
       "[1] 153"
      ]
     },
     "metadata": {},
     "output_type": "display_data"
    }
   ],
   "source": [
    "median(sneaker$order_amount_transf)"
   ]
  },
  {
   "cell_type": "markdown",
   "metadata": {},
   "source": [
    "Another alternative is removing the abnormally high amounts and finding the average of the remaining ones. "
   ]
  },
  {
   "cell_type": "code",
   "execution_count": 22,
   "metadata": {},
   "outputs": [
    {
     "data": {
      "text/html": [
       "152.475575292693"
      ],
      "text/latex": [
       "152.475575292693"
      ],
      "text/markdown": [
       "152.475575292693"
      ],
      "text/plain": [
       "[1] 152.4756"
      ]
     },
     "metadata": {},
     "output_type": "display_data"
    }
   ],
   "source": [
    "mean(sneaker$order_amount_transf[sneaker$order_amount_transf < 25725])"
   ]
  },
  {
   "cell_type": "markdown",
   "metadata": {},
   "source": [
    "There both approximately give us the same insight."
   ]
  },
  {
   "cell_type": "markdown",
   "metadata": {},
   "source": [
    "**Problem 2:** For this question you’ll need to use SQL. Follow this link to access the data set required for the challenge. Please use queries to answer the following questions. Paste your queries along with your final numerical answers below."
   ]
  },
  {
   "cell_type": "markdown",
   "metadata": {},
   "source": [
    "1. How many orders were shipped by Speedy Express in total?\n",
    "\n",
    "SELECT COUNT(*) FROM Orders<br>\n",
    "LEFT JOIN Shippers on Orders.ShipperID = Shippers.ShipperID<br>\n",
    "WHERE ShipperName = 'Speedy Express'\n",
    "\n",
    "<br>\n",
    "\n",
    "Answer: **54**"
   ]
  },
  {
   "cell_type": "markdown",
   "metadata": {},
   "source": [
    "2. What is the last name of the employee with the most orders?\n",
    "\n",
    "SELECT LastName, COUNT(*) as Num_Orders<br>\n",
    "FROM Orders o<br>\n",
    "LEFT JOIN Employees e<br> \n",
    "ON o.EmployeeID = e.EmployeeID<br>\n",
    "GROUP BY LastName<br>\n",
    "ORDER BY Num_Orders DESC\n",
    "\n",
    "<br>\n",
    "\n",
    "Answer: **Peacock**"
   ]
  },
  {
   "cell_type": "markdown",
   "metadata": {},
   "source": [
    "3. What product was ordered the most by customers in Germany?\n",
    "\n",
    "I intepreted this as what product was most ordered by *quantity* in Germany. So the same Customer ordering 100 of the same product times is intepreted differently from ordering the same product once. \n",
    "\n",
    "SELECT ProductName, SUM(Quantity) as total<br>\n",
    "FROM Orders o<br>\n",
    "JOIN Customers c ON c.CustomerID = o.CustomerID<br>\n",
    "JOIN OrderDetails od ON od.OrderID = o.OrderID<br>\n",
    "JOIN Products p ON p.ProductID = od.ProductID<br>\n",
    "WHERE Country = 'Germany'<br>\n",
    "GROUP BY p.ProductID<br>\n",
    "ORDER BY total DESC<br>\n",
    "LIMIT 1;\n",
    "\n",
    "<br>\n",
    "\n",
    "Answer: **Boston Crab Meat (160)** "
   ]
  }
 ],
 "metadata": {
  "kernelspec": {
   "display_name": "R",
   "language": "R",
   "name": "ir"
  },
  "language_info": {
   "codemirror_mode": "r",
   "file_extension": ".r",
   "mimetype": "text/x-r-source",
   "name": "R",
   "pygments_lexer": "r",
   "version": "3.6.1"
  }
 },
 "nbformat": 4,
 "nbformat_minor": 4
}
